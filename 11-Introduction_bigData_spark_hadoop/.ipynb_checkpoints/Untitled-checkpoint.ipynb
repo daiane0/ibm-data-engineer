{
 "cells": [
  {
   "cell_type": "markdown",
   "id": "d088044c-d2aa-4be4-961c-eae1ec94fa90",
   "metadata": {},
   "source": [
    "### Instalando bibliotecas necessárias e criando o contexto Spark"
   ]
  },
  {
   "cell_type": "code",
   "execution_count": 2,
   "id": "ebf7b854-b33c-4ee8-afb7-f7dede775a57",
   "metadata": {},
   "outputs": [],
   "source": [
    "import findspark\n",
    "\n",
    "findspark.init()"
   ]
  },
  {
   "cell_type": "code",
   "execution_count": 99,
   "id": "5a9c889b-7a9a-4cee-9f56-b903a6ff130a",
   "metadata": {},
   "outputs": [],
   "source": [
    "from pyspark import SparkContext, SparkConf\n",
    "import wget\n",
    "from pyspark.sql import SparkSession\n",
    "import os\n",
    "import pyspark.sql.functions as f\n",
    "import pyspark.sql.types as t"
   ]
  },
  {
   "cell_type": "code",
   "execution_count": 8,
   "id": "d8a03d1f-9de7-457c-a547-e560c5dc0f56",
   "metadata": {},
   "outputs": [
    {
     "name": "stderr",
     "output_type": "stream",
     "text": [
      "24/04/25 11:55:17 WARN Utils: Your hostname, victor-Lenovo-ideapad-330-15IKB resolves to a loopback address: 127.0.1.1; using 192.168.1.74 instead (on interface wlp2s0)\n",
      "24/04/25 11:55:17 WARN Utils: Set SPARK_LOCAL_IP if you need to bind to another address\n",
      "Setting default log level to \"WARN\".\n",
      "To adjust logging level use sc.setLogLevel(newLevel). For SparkR, use setLogLevel(newLevel).\n",
      "24/04/25 11:55:18 WARN NativeCodeLoader: Unable to load native-hadoop library for your platform... using builtin-java classes where applicable\n"
     ]
    },
    {
     "data": {
      "text/html": [
       "\n",
       "            <div>\n",
       "                <p><b>SparkSession - in-memory</b></p>\n",
       "                \n",
       "        <div>\n",
       "            <p><b>SparkContext</b></p>\n",
       "\n",
       "            <p><a href=\"http://192.168.1.74:4040\">Spark UI</a></p>\n",
       "\n",
       "            <dl>\n",
       "              <dt>Version</dt>\n",
       "                <dd><code>v3.5.1</code></dd>\n",
       "              <dt>Master</dt>\n",
       "                <dd><code>local[*]</code></dd>\n",
       "              <dt>AppName</dt>\n",
       "                <dd><code>Exemplo Spark</code></dd>\n",
       "            </dl>\n",
       "        </div>\n",
       "        \n",
       "            </div>\n",
       "        "
      ],
      "text/plain": [
       "<pyspark.sql.session.SparkSession at 0x75930c763290>"
      ]
     },
     "execution_count": 8,
     "metadata": {},
     "output_type": "execute_result"
    }
   ],
   "source": [
    "\n",
    "# Creating a SparkSession  \n",
    "\n",
    "# Definir o caminho do Spark corretamente\n",
    "os.environ['SPARK_HOME'] = '/home/daiane/spark-3.5.1-bin-hadoop3/'\n",
    "\n",
    "# Definir o caminho do Java corretamente\n",
    "os.environ['JAVA_HOME'] = '/usr/lib/jvm/java-1.17.0-openjdk-amd64/'\n",
    "\n",
    "# Iniciar uma sessão Spark\n",
    "spark = SparkSession.builder \\\n",
    "    .appName(\"Exemplo Spark\") \\\n",
    "    .getOrCreate()\n",
    "\n",
    "# Testar a sessão Spark\n",
    "spark\n"
   ]
  },
  {
   "cell_type": "markdown",
   "id": "eac4d071-b553-48bd-9651-70f589c2426e",
   "metadata": {},
   "source": [
    "Download do arquivo CSV"
   ]
  },
  {
   "cell_type": "code",
   "execution_count": 10,
   "id": "6020599a-3888-4299-aaa7-f95370cdacf6",
   "metadata": {},
   "outputs": [
    {
     "name": "stdout",
     "output_type": "stream",
     "text": [
      "100% [............................................................] 1321 / 1321"
     ]
    },
    {
     "data": {
      "text/plain": [
       "'employees.csv'"
      ]
     },
     "execution_count": 10,
     "metadata": {},
     "output_type": "execute_result"
    }
   ],
   "source": [
    "wget.download(\"https://cf-courses-data.s3.us.cloud-object-storage.appdomain.cloud/IBM-BD0225EN-SkillsNetwork/data/employees.csv\")"
   ]
  },
  {
   "cell_type": "markdown",
   "id": "176640fb-8022-4e6b-8c65-4c101da8735c",
   "metadata": {},
   "source": [
    "#### Task 1: Gerar um DataFrame e esquema do Spark a partir dos dados em formato CSV"
   ]
  },
  {
   "cell_type": "code",
   "execution_count": 107,
   "id": "7c666774-6b0e-4ff3-ab69-3daab294316d",
   "metadata": {},
   "outputs": [],
   "source": [
    "schema = StructType([\n",
    "    StructField(\"emp_id\", t.IntegerType(), True),\n",
    "    StructField(\"emp_name\", t.StringType(), True),\n",
    "    StructField(\"emp_salary\", t.IntegerType(), True),\n",
    "    StructField(\"emp_age\", t.IntegerType(), True),\n",
    "    StructField(\"emp_department\", t.StringType(), True),\n",
    "])\n",
    "employees_df = spark.read.csv(\"employees.csv\", schema=schema, header=False)\n",
    "employees_df = employees_df.rdd.zipWithIndex().filter(lambda x: x[1] > 0).keys().toDF(schema)"
   ]
  },
  {
   "cell_type": "code",
   "execution_count": 56,
   "id": "7043508f-4468-447e-8bff-7fe7c0403f89",
   "metadata": {},
   "outputs": [
    {
     "name": "stdout",
     "output_type": "stream",
     "text": [
      "root\n",
      " |-- emp_id: integer (nullable = true)\n",
      " |-- emp_name: string (nullable = true)\n",
      " |-- emp_salary: integer (nullable = true)\n",
      " |-- emp_age: integer (nullable = true)\n",
      " |-- emp_department: string (nullable = true)\n",
      "\n",
      "+------+---------+----------+-------+--------------+\n",
      "|emp_id| emp_name|emp_salary|emp_age|emp_department|\n",
      "+------+---------+----------+-------+--------------+\n",
      "|   198|   Donald|      2600|     29|            IT|\n",
      "|   199|  Douglas|      2600|     34|         Sales|\n",
      "|   200| Jennifer|      4400|     36|     Marketing|\n",
      "|   201|  Michael|     13000|     32|            IT|\n",
      "|   202|      Pat|      6000|     39|            HR|\n",
      "|   203|    Susan|      6500|     36|     Marketing|\n",
      "|   204|  Hermann|     10000|     29|       Finance|\n",
      "|   205|  Shelley|     12008|     33|       Finance|\n",
      "|   206|  William|      8300|     37|            IT|\n",
      "|   100|   Steven|     24000|     39|            IT|\n",
      "|   101|    Neena|     17000|     27|         Sales|\n",
      "|   102|      Lex|     17000|     37|     Marketing|\n",
      "|   103|Alexander|      9000|     39|     Marketing|\n",
      "|   104|    Bruce|      6000|     38|            IT|\n",
      "|   105|    David|      4800|     39|            IT|\n",
      "|   106|    Valli|      4800|     38|         Sales|\n",
      "|   107|    Diana|      4200|     35|         Sales|\n",
      "|   108|    Nancy|     12008|     28|         Sales|\n",
      "|   109|   Daniel|      9000|     35|            HR|\n",
      "|   110|     John|      8200|     31|     Marketing|\n",
      "+------+---------+----------+-------+--------------+\n",
      "only showing top 20 rows\n",
      "\n"
     ]
    }
   ],
   "source": [
    "employees_df.printSchema()\n",
    "employees_df.show()"
   ]
  },
  {
   "cell_type": "markdown",
   "id": "99a77887-b2ed-4dbe-bd19-cb2f8870e42f",
   "metadata": {},
   "source": [
    "### Task 2: Criar visualização temporária"
   ]
  },
  {
   "cell_type": "code",
   "execution_count": 59,
   "id": "3adf695d-767d-41c8-9a56-60bbb361cfd4",
   "metadata": {},
   "outputs": [],
   "source": [
    "employees_df.createOrReplaceTempView(\"employees\")"
   ]
  },
  {
   "cell_type": "code",
   "execution_count": 60,
   "id": "aaa79a62-03c5-49a9-8a25-c0748cd65000",
   "metadata": {},
   "outputs": [
    {
     "name": "stdout",
     "output_type": "stream",
     "text": [
      "+------+---------+----------+-------+--------------+\n",
      "|emp_id| emp_name|emp_salary|emp_age|emp_department|\n",
      "+------+---------+----------+-------+--------------+\n",
      "|   198|   Donald|      2600|     29|            IT|\n",
      "|   199|  Douglas|      2600|     34|         Sales|\n",
      "|   200| Jennifer|      4400|     36|     Marketing|\n",
      "|   201|  Michael|     13000|     32|            IT|\n",
      "|   202|      Pat|      6000|     39|            HR|\n",
      "|   203|    Susan|      6500|     36|     Marketing|\n",
      "|   204|  Hermann|     10000|     29|       Finance|\n",
      "|   205|  Shelley|     12008|     33|       Finance|\n",
      "|   206|  William|      8300|     37|            IT|\n",
      "|   100|   Steven|     24000|     39|            IT|\n",
      "|   101|    Neena|     17000|     27|         Sales|\n",
      "|   102|      Lex|     17000|     37|     Marketing|\n",
      "|   103|Alexander|      9000|     39|     Marketing|\n",
      "|   104|    Bruce|      6000|     38|            IT|\n",
      "|   105|    David|      4800|     39|            IT|\n",
      "|   106|    Valli|      4800|     38|         Sales|\n",
      "|   107|    Diana|      4200|     35|         Sales|\n",
      "|   108|    Nancy|     12008|     28|         Sales|\n",
      "|   109|   Daniel|      9000|     35|            HR|\n",
      "|   110|     John|      8200|     31|     Marketing|\n",
      "+------+---------+----------+-------+--------------+\n",
      "only showing top 20 rows\n",
      "\n",
      "+----------+\n",
      "|total_rwos|\n",
      "+----------+\n",
      "|        50|\n",
      "+----------+\n",
      "\n"
     ]
    }
   ],
   "source": [
    "spark.sql(\"SELECT * FROM employees\").show()\n",
    "spark.sql(\"select count(*) as total_rwos from employees\").show()"
   ]
  },
  {
   "cell_type": "markdown",
   "id": "194470b7-a202-41bf-9c15-fcc58c41e21f",
   "metadata": {},
   "source": [
    "### Task 3: Executar consulta SQL para buscar os registros da visualização 'employees' onde a idade dos funcionários seja superior a 30"
   ]
  },
  {
   "cell_type": "code",
   "execution_count": 61,
   "id": "e4970880-d7c7-4727-a611-92f458c2ecb8",
   "metadata": {},
   "outputs": [
    {
     "name": "stdout",
     "output_type": "stream",
     "text": [
      "+------+-----------+----------+-------+--------------+\n",
      "|emp_id|   emp_name|emp_salary|emp_age|emp_department|\n",
      "+------+-----------+----------+-------+--------------+\n",
      "|   199|    Douglas|      2600|     34|         Sales|\n",
      "|   200|   Jennifer|      4400|     36|     Marketing|\n",
      "|   201|    Michael|     13000|     32|            IT|\n",
      "|   202|        Pat|      6000|     39|            HR|\n",
      "|   203|      Susan|      6500|     36|     Marketing|\n",
      "|   205|    Shelley|     12008|     33|       Finance|\n",
      "|   206|    William|      8300|     37|            IT|\n",
      "|   100|     Steven|     24000|     39|            IT|\n",
      "|   102|        Lex|     17000|     37|     Marketing|\n",
      "|   103|  Alexander|      9000|     39|     Marketing|\n",
      "|   104|      Bruce|      6000|     38|            IT|\n",
      "|   105|      David|      4800|     39|            IT|\n",
      "|   106|      Valli|      4800|     38|         Sales|\n",
      "|   107|      Diana|      4200|     35|         Sales|\n",
      "|   109|     Daniel|      9000|     35|            HR|\n",
      "|   110|       John|      8200|     31|     Marketing|\n",
      "|   111|     Ismael|      7700|     32|            IT|\n",
      "|   112|Jose Manuel|      7800|     34|            HR|\n",
      "|   113|       Luis|      6900|     34|         Sales|\n",
      "|   116|     Shelli|      2900|     37|       Finance|\n",
      "+------+-----------+----------+-------+--------------+\n",
      "only showing top 20 rows\n",
      "\n",
      "+--------+\n",
      "|count(1)|\n",
      "+--------+\n",
      "|      37|\n",
      "+--------+\n",
      "\n"
     ]
    }
   ],
   "source": [
    "spark.sql(\"select * from employees where emp_age > 30\").show()  \n",
    "spark.sql(\"select count(*) from employees where emp_age > 30\").show()"
   ]
  },
  {
   "cell_type": "markdown",
   "id": "2379edbc-ef93-4b4b-88a6-70d430d0cea4",
   "metadata": {},
   "source": [
    "### Task 4: Exibir salário médio dos funcionários agrupados por departamento"
   ]
  },
  {
   "cell_type": "code",
   "execution_count": 68,
   "id": "097425f3-ab7f-46ef-94ad-4eacbb7597ca",
   "metadata": {},
   "outputs": [
    {
     "name": "stdout",
     "output_type": "stream",
     "text": [
      "+--------------+----------+\n",
      "|emp_department|avg_salary|\n",
      "+--------------+----------+\n",
      "|            IT|    7400.0|\n",
      "|     Marketing|   6633.33|\n",
      "|            HR|    5837.5|\n",
      "|       Finance|    5730.8|\n",
      "|         Sales|   5492.92|\n",
      "+--------------+----------+\n",
      "\n"
     ]
    }
   ],
   "source": [
    "spark.sql(\"select emp_department, round(avg(emp_salary), 2) as avg_salary from employees group by emp_department order by avg_salary desc\").show()"
   ]
  },
  {
   "cell_type": "markdown",
   "id": "3a445f00-226a-401c-82a9-f4c240164ee9",
   "metadata": {},
   "source": [
    "### Task 5: Filtrar departamento de TI"
   ]
  },
  {
   "cell_type": "code",
   "execution_count": 69,
   "id": "bd5ef706-1fb5-4b74-91c0-96d02817ed94",
   "metadata": {},
   "outputs": [
    {
     "name": "stdout",
     "output_type": "stream",
     "text": [
      "+------+--------+----------+-------+--------------+\n",
      "|emp_id|emp_name|emp_salary|emp_age|emp_department|\n",
      "+------+--------+----------+-------+--------------+\n",
      "|   198|  Donald|      2600|     29|            IT|\n",
      "|   201| Michael|     13000|     32|            IT|\n",
      "|   206| William|      8300|     37|            IT|\n",
      "|   100|  Steven|     24000|     39|            IT|\n",
      "|   104|   Bruce|      6000|     38|            IT|\n",
      "|   105|   David|      4800|     39|            IT|\n",
      "|   111|  Ismael|      7700|     32|            IT|\n",
      "|   129|   Laura|      3300|     38|            IT|\n",
      "|   132|      TJ|      2100|     34|            IT|\n",
      "|   136|   Hazel|      2200|     29|            IT|\n",
      "+------+--------+----------+-------+--------------+\n",
      "\n"
     ]
    }
   ],
   "source": [
    "spark.sql(\"select * from employees where emp_department = 'IT'\").show()"
   ]
  },
  {
   "cell_type": "markdown",
   "id": "92db700f-1230-4ec0-9ede-c2a2843714be",
   "metadata": {},
   "source": [
    "### Task 6: adicionar nova coluna com salário + bônus 10%"
   ]
  },
  {
   "cell_type": "code",
   "execution_count": 101,
   "id": "e401e8f4-264a-4ec7-a5c7-196bfc3e849d",
   "metadata": {},
   "outputs": [],
   "source": [
    "employees_df = employees_df.withColumn(\"SalaryAfterBonus\", f.round(employees_df[\"emp_salary\"] * 1.10, 2))"
   ]
  },
  {
   "cell_type": "markdown",
   "id": "1f1423ff-0a34-45c5-ad64-eae0e5bc5a7b",
   "metadata": {},
   "source": [
    "### Task 7: Retornar maior salário para cada idade"
   ]
  },
  {
   "cell_type": "code",
   "execution_count": 102,
   "id": "afd1eff3-e726-4234-9242-2efced5b4d0f",
   "metadata": {},
   "outputs": [
    {
     "name": "stdout",
     "output_type": "stream",
     "text": [
      "+-------+----------+\n",
      "|emp_age|max_salary|\n",
      "+-------+----------+\n",
      "|     26|      3600|\n",
      "|     27|     17000|\n",
      "|     28|     12008|\n",
      "|     29|     10000|\n",
      "|     30|      8000|\n",
      "|     31|      8200|\n",
      "|     32|     13000|\n",
      "|     33|     12008|\n",
      "|     34|      7800|\n",
      "|     35|      9000|\n",
      "|     36|      7900|\n",
      "|     37|     17000|\n",
      "|     38|      6000|\n",
      "|     39|     24000|\n",
      "+-------+----------+\n",
      "\n"
     ]
    }
   ],
   "source": [
    "employees_df.groupBy('emp_age').agg(f.max('emp_salary').alias('max_salary')).orderBy('emp_age').show()"
   ]
  },
  {
   "cell_type": "markdown",
   "id": "d96073be-816a-42a2-b2ba-23092a66e88c",
   "metadata": {},
   "source": [
    "### Task 8"
   ]
  },
  {
   "cell_type": "code",
   "execution_count": 79,
   "id": "e21f00e0-bb29-49a1-af54-bb7c3ccbb0cd",
   "metadata": {},
   "outputs": [
    {
     "name": "stderr",
     "output_type": "stream",
     "text": [
      "24/04/25 17:11:16 WARN Column: Constructing trivially true equals predicate, 'emp_id#487 = emp_id#487'. Perhaps you need to use aliases.\n"
     ]
    },
    {
     "name": "stdout",
     "output_type": "stream",
     "text": [
      "+------+-----------+----------+-------+--------------+------------------+------+-----------+----------+-------+--------------+------------------+\n",
      "|emp_id|   emp_name|emp_salary|emp_age|emp_department|  SalaryAfterBonus|emp_id|   emp_name|emp_salary|emp_age|emp_department|  SalaryAfterBonus|\n",
      "+------+-----------+----------+-------+--------------+------------------+------+-----------+----------+-------+--------------+------------------+\n",
      "|   137|     Renske|      3600|     26|     Marketing|3960.0000000000005|   137|     Renske|      3600|     26|     Marketing|3960.0000000000005|\n",
      "|   133|      Jason|      3300|     38|         Sales|3630.0000000000005|   133|      Jason|      3300|     38|         Sales|3630.0000000000005|\n",
      "|   108|      Nancy|     12008|     28|         Sales|13208.800000000001|   108|      Nancy|     12008|     28|         Sales|13208.800000000001|\n",
      "|   101|      Neena|     17000|     27|         Sales|           18700.0|   101|      Neena|     17000|     27|         Sales|           18700.0|\n",
      "|   115|  Alexander|      3100|     29|       Finance|3410.0000000000005|   115|  Alexander|      3100|     29|       Finance|3410.0000000000005|\n",
      "|   126|      Irene|      2700|     28|            HR|2970.0000000000005|   126|      Irene|      2700|     28|            HR|2970.0000000000005|\n",
      "|   103|  Alexander|      9000|     39|     Marketing|            9900.0|   103|  Alexander|      9000|     39|     Marketing|            9900.0|\n",
      "|   128|     Steven|      2200|     33|       Finance|            2420.0|   128|     Steven|      2200|     33|       Finance|            2420.0|\n",
      "|   122|      Payam|      7900|     36|       Finance|            8690.0|   122|      Payam|      7900|     36|       Finance|            8690.0|\n",
      "|   111|     Ismael|      7700|     32|            IT|            8470.0|   111|     Ismael|      7700|     32|            IT|            8470.0|\n",
      "|   140|     Joshua|      2500|     29|       Finance|            2750.0|   140|     Joshua|      2500|     29|       Finance|            2750.0|\n",
      "|   132|         TJ|      2100|     34|            IT|            2310.0|   132|         TJ|      2100|     34|            IT|            2310.0|\n",
      "|   206|    William|      8300|     37|            IT|            9130.0|   206|    William|      8300|     37|            IT|            9130.0|\n",
      "|   205|    Shelley|     12008|     33|       Finance|13208.800000000001|   205|    Shelley|     12008|     33|       Finance|13208.800000000001|\n",
      "|   139|       John|      2700|     36|         Sales|2970.0000000000005|   139|       John|      2700|     36|         Sales|2970.0000000000005|\n",
      "|   120|    Matthew|      8000|     30|            HR|            8800.0|   120|    Matthew|      8000|     30|            HR|            8800.0|\n",
      "|   117|      Sigal|      2800|     33|         Sales|3080.0000000000005|   117|      Sigal|      2800|     33|         Sales|3080.0000000000005|\n",
      "|   112|Jose Manuel|      7800|     34|            HR|            8580.0|   112|Jose Manuel|      7800|     34|            HR|            8580.0|\n",
      "|   127|      James|      2400|     31|            HR|            2640.0|   127|      James|      2400|     31|            HR|            2640.0|\n",
      "|   202|        Pat|      6000|     39|            HR| 6600.000000000001|   202|        Pat|      6000|     39|            HR| 6600.000000000001|\n",
      "+------+-----------+----------+-------+--------------+------------------+------+-----------+----------+-------+--------------+------------------+\n",
      "only showing top 20 rows\n",
      "\n"
     ]
    }
   ],
   "source": [
    "joined_df = employees_df.join(employees_df, employees_df[\"emp_id\"] == employees_df[\"emp_id\"], how=\"inner\")\n",
    "joined_df.show()"
   ]
  },
  {
   "cell_type": "markdown",
   "id": "376d900c-0084-41d0-917b-7aa94d90e0c2",
   "metadata": {},
   "source": [
    "### Task 9: Calcular idade média dos funcionários"
   ]
  },
  {
   "cell_type": "code",
   "execution_count": 103,
   "id": "61c64cc3-b100-4d65-b68f-105e368b99c6",
   "metadata": {},
   "outputs": [
    {
     "name": "stdout",
     "output_type": "stream",
     "text": [
      "+-------+\n",
      "|avg_age|\n",
      "+-------+\n",
      "|  33.56|\n",
      "+-------+\n",
      "\n"
     ]
    }
   ],
   "source": [
    "employees_df.agg(f.avg('emp_age').alias('avg_age')).show()"
   ]
  },
  {
   "cell_type": "markdown",
   "id": "7a1eafc5-6b54-494d-a1a1-8f82ad954cb2",
   "metadata": {},
   "source": [
    "### Task 10: Salário total por departamento"
   ]
  },
  {
   "cell_type": "code",
   "execution_count": 104,
   "id": "3396cc32-bfc0-4fc4-b659-d9cdf1b38c6d",
   "metadata": {},
   "outputs": [
    {
     "name": "stdout",
     "output_type": "stream",
     "text": [
      "+--------------+------------+\n",
      "|emp_department|total_amount|\n",
      "+--------------+------------+\n",
      "|         Sales|       71408|\n",
      "|            HR|       46700|\n",
      "|       Finance|       57308|\n",
      "|     Marketing|       59700|\n",
      "|            IT|       74000|\n",
      "+--------------+------------+\n",
      "\n"
     ]
    }
   ],
   "source": [
    "employees_df.groupBy('emp_department').agg(f.sum('emp_salary').alias('total_amount')).show()"
   ]
  },
  {
   "cell_type": "markdown",
   "id": "b9599bcf-3ea0-4d50-9f7b-22eaba9910da",
   "metadata": {},
   "source": [
    "### Task 11: Ordenar o DataFrame por idade em ordem crescente e por salário em ordem decrescente."
   ]
  },
  {
   "cell_type": "code",
   "execution_count": 105,
   "id": "0f912e63-2776-48b9-89db-db1db16e7590",
   "metadata": {},
   "outputs": [],
   "source": [
    "employees_sorted_df = employees_df.orderBy(f.asc('emp_age'), f.desc('emp_salary'))"
   ]
  },
  {
   "cell_type": "markdown",
   "id": "625a69cc-9090-4d22-8470-33bb2c36ea58",
   "metadata": {},
   "source": [
    "### Task 12: Calcular quantidade de funcionários por departamento"
   ]
  },
  {
   "cell_type": "code",
   "execution_count": 106,
   "id": "842560c4-b189-4ab4-82cf-5adc87a77aca",
   "metadata": {},
   "outputs": [
    {
     "name": "stdout",
     "output_type": "stream",
     "text": [
      "+--------------+------------------+\n",
      "|emp_department|emp_per_department|\n",
      "+--------------+------------------+\n",
      "|         Sales|                13|\n",
      "|            HR|                 8|\n",
      "|       Finance|                10|\n",
      "|     Marketing|                 9|\n",
      "|            IT|                10|\n",
      "+--------------+------------------+\n",
      "\n"
     ]
    }
   ],
   "source": [
    "employees_df.groupBy('emp_department').agg(f.count('emp_id').alias('emp_per_department')).show()"
   ]
  },
  {
   "cell_type": "markdown",
   "id": "841c06ba-538c-48ab-8dcd-1d9e5375dc3b",
   "metadata": {},
   "source": [
    "### Task 13: Exibir apenas funcionários que tem a letra \"o\" no nome"
   ]
  },
  {
   "cell_type": "code",
   "execution_count": 93,
   "id": "65cdccdd-76cd-4cec-be5b-e82609bbaf7d",
   "metadata": {},
   "outputs": [
    {
     "name": "stdout",
     "output_type": "stream",
     "text": [
      "+------+-----------+----------+-------+--------------+----------------+\n",
      "|emp_id|   emp_name|emp_salary|emp_age|emp_department|SalaryAfterBonus|\n",
      "+------+-----------+----------+-------+--------------+----------------+\n",
      "|   198|     Donald|      2600|     29|            IT|          2860.0|\n",
      "|   199|    Douglas|      2600|     34|         Sales|          2860.0|\n",
      "|   110|       John|      8200|     31|     Marketing|          9020.0|\n",
      "|   112|Jose Manuel|      7800|     34|            HR|          8580.0|\n",
      "|   130|      Mozhe|      2800|     28|     Marketing|          3080.0|\n",
      "|   133|      Jason|      3300|     38|         Sales|          3630.0|\n",
      "|   139|       John|      2700|     36|         Sales|          2970.0|\n",
      "|   140|     Joshua|      2500|     29|       Finance|          2750.0|\n",
      "+------+-----------+----------+-------+--------------+----------------+\n",
      "\n"
     ]
    }
   ],
   "source": [
    "employees_df.filter(employees_df.emp_name.contains('o')).show()"
   ]
  },
  {
   "cell_type": "code",
   "execution_count": null,
   "id": "33b8e867-131f-4744-a064-bad40db185d0",
   "metadata": {},
   "outputs": [],
   "source": []
  }
 ],
 "metadata": {
  "kernelspec": {
   "display_name": "Python 3 (ipykernel)",
   "language": "python",
   "name": "python3"
  },
  "language_info": {
   "codemirror_mode": {
    "name": "ipython",
    "version": 3
   },
   "file_extension": ".py",
   "mimetype": "text/x-python",
   "name": "python",
   "nbconvert_exporter": "python",
   "pygments_lexer": "ipython3",
   "version": "3.11.7"
  }
 },
 "nbformat": 4,
 "nbformat_minor": 5
}
